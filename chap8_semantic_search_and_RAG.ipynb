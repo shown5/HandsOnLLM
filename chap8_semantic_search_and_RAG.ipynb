{
  "nbformat": 4,
  "nbformat_minor": 0,
  "metadata": {
    "colab": {
      "provenance": [],
      "gpuType": "T4",
      "authorship_tag": "ABX9TyOxB1KaWX/1IiSD4NkuolLj",
      "include_colab_link": true
    },
    "kernelspec": {
      "name": "python3",
      "display_name": "Python 3"
    },
    "language_info": {
      "name": "python"
    },
    "accelerator": "GPU"
  },
  "cells": [
    {
      "cell_type": "markdown",
      "metadata": {
        "id": "view-in-github",
        "colab_type": "text"
      },
      "source": [
        "<a href=\"https://colab.research.google.com/github/shown5/HandsOnLLM/blob/main/chap8_semantic_search_and_RAG.ipynb\" target=\"_parent\"><img src=\"https://colab.research.google.com/assets/colab-badge.svg\" alt=\"Open In Colab\"/></a>"
      ]
    },
    {
      "cell_type": "code",
      "source": [
        "# Google Colab では Python 3.12 ＋ numpy 1.26 系と faiss 1.8 系の組み合わせがうまく噛み合わないケースが報告されているらしい。\n",
        "%%capture\n",
        "# !pip install langchain==0.2.5 faiss-cpu==1.7.4 cohere==5.5.8 langchain-community==0.2.5 rank_bm25==0.2.2 sentence-transformers==3.0.1 numpy==1.24.4\n",
        "!pip install langchain==0.2.5 faiss-cpu==1.12.0 cohere==5.5.8 langchain-community==0.2.5 rank_bm25==0.2.2 sentence-transformers==3.0.1 numpy==1.24.4\n",
        "!pip install llama-cpp-python==0.2.78  --extra-index-url https://abetlen.github.io/llama-cpp-python/whl/cu124"
      ],
      "metadata": {
        "id": "4VSaRBsw73rw"
      },
      "execution_count": null,
      "outputs": []
    },
    {
      "cell_type": "code",
      "metadata": {
        "id": "ffc7a6c9"
      },
      "source": [
        "%pip install cohere"
      ],
      "execution_count": null,
      "outputs": []
    },
    {
      "cell_type": "code",
      "execution_count": null,
      "metadata": {
        "id": "buUPyr7g6Vn9"
      },
      "outputs": [],
      "source": [
        "import cohere\n",
        "from google.colab import userdata\n",
        "\n",
        "try:\n",
        "  api_key = userdata.get(\"COHERE_API_KEY\")\n",
        "except userdata.notebook_secret.NotebookSecretError:\n",
        "  print(\"Please store your Cohere API key in Colab secrets with the name 'COHERE_API_KEY'\")\n",
        "  api_key = None\n",
        "\n",
        "if api_key:\n",
        "  co = cohere.Client(api_key)\n",
        "else:\n",
        "  print(\"Cohere client could not be initialized due to missing API key.\")"
      ]
    },
    {
      "cell_type": "code",
      "source": [
        "text = \"\"\"\n",
        "Interstellar is a 2014 epic science fiction film co-written, directed, and produced by Christopher Nolan.\n",
        "It stars Matthew McConaughey, Anne Hathaway, Jessica Chastain, Bill Irwin, Ellen Burstyn, Matt Damon, and Michael Caine.\n",
        "Set in a dystopian future where humanity is struggling to survive, the film follows a group of astronauts who travel through a wormhole near Saturn in search of a new home for mankind.\n",
        "\n",
        "Brothers Christopher and Jonathan Nolan wrote the screenplay, which had its origins in a script Jonathan developed in 2007.\n",
        "Caltech theoretical physicist and 2017 Nobel laureate in Physics[4] Kip Thorne was an executive producer, acted as a scientific consultant, and wrote a tie-in book, The Science of Interstellar.\n",
        "Cinematographer Hoyte van Hoytema shot it on 35 mm movie film in the Panavision anamorphic format and IMAX 70 mm.\n",
        "Principal photography began in late 2013 and took place in Alberta, Iceland, and Los Angeles.\n",
        "Interstellar uses extensive practical and miniature effects and the company Double Negative created additional digital effects.\n",
        "\n",
        "Interstellar premiered on October 26, 2014, in Los Angeles.\n",
        "In the United States, it was first released on film stock, expanding to venues using digital projectors.\n",
        "The film had a worldwide gross over $677 million (and $773 million with subsequent re-releases), making it the tenth-highest grossing film of 2014.\n",
        "It received acclaim for its performances, direction, screenplay, musical score, visual effects, ambition, themes, and emotional weight.\n",
        "It has also received praise from many astronomers for its scientific accuracy and portrayal of theoretical astrophysics. Since its premiere, Interstellar gained a cult following,[5] and now is regarded by many sci-fi experts as one of the best science-fiction films of all time.\n",
        "Interstellar was nominated for five awards at the 87th Academy Awards, winning Best Visual Effects, and received numerous other accolades\"\"\"\n",
        "\n",
        "# テキストを文単位に分割\n",
        "texts = text.split('.')\n",
        "\n",
        "# スペースや改行を除去\n",
        "texts = [t.strip(' \\n') for t in texts]"
      ],
      "metadata": {
        "id": "Q5n3WCcs7wR9"
      },
      "execution_count": null,
      "outputs": []
    },
    {
      "cell_type": "code",
      "source": [
        "import numpy as np\n",
        "\n",
        "# 埋め込みを取得\n",
        "response = co.embed(\n",
        "    texts=texts,\n",
        "    input_type=\"search_document\",\n",
        "    model=\"embed-multilingual-v3.0\"\n",
        ").embeddings\n",
        "\n",
        "embeds = np.array(response)\n",
        "print(embeds.shape)"
      ],
      "metadata": {
        "id": "EZnoQedzFCsk"
      },
      "execution_count": null,
      "outputs": []
    },
    {
      "cell_type": "code",
      "source": [
        "import faiss\n",
        "# import numpy as np\n",
        "\n",
        "# shape = (15, 1024)\n",
        "print(type(embeds), embeds.shape)\n",
        "\n",
        "# numpy の float32 に変換\n",
        "embeds_np = np.ascontiguousarray(np.array(embeds, dtype=np.float32))\n",
        "\n",
        "print(type(embeds_np), embeds_np.shape, embeds_np.dtype, embeds_np.flags['C_CONTIGUOUS'])\n",
        "# dtype=float32, C_CONTIGUOUS=True になっていることを確認\n",
        "\n",
        "\n",
        "dim = embeds_np.shape[1]\n",
        "index = faiss.IndexFlatL2(dim)\n",
        "\n",
        "print(index.is_trained)  # True のはず\n",
        "index.add(embeds_np)     # ここでエラーが消える"
      ],
      "metadata": {
        "id": "W7moU8QlH-Ov"
      },
      "execution_count": null,
      "outputs": []
    },
    {
      "cell_type": "code",
      "source": [
        "import pandas as pd\n",
        "\n",
        "def search(query, number_of_results=3):\n",
        "\n",
        "  # 1.クエリの埋め込みを取得\n",
        "  query_embed = co.embed(\n",
        "      texts=[query],\n",
        "      input_type=\"search_query\",\n",
        "      model=\"embed-multilingual-v3.0\" # ドキュメントと同じモデルを指定\n",
        "  ).embeddings[0]\n",
        "\n",
        "  # 2.最近傍を検索\n",
        "  distances, similar_item_ids = index.search(\n",
        "      np.float32([query_embed]),\n",
        "      number_of_results\n",
        "  )\n",
        "\n",
        "  # 3.結果を整形\n",
        "  # インデックス化を楽にするため、テキストのリストをNumPyの配列に変換\n",
        "  texts_np = np.array(texts)\n",
        "  results = pd.DataFrame(\n",
        "      data={\n",
        "          \"texts\": texts_np[similar_item_ids[0]],\n",
        "          \"distance\": distances[0]\n",
        "      }\n",
        "  )\n",
        "\n",
        "  # 4.結果を表示して返す\n",
        "  print(f\"Query:'{query}'\\nNearest neighbours:\")\n",
        "  return results"
      ],
      "metadata": {
        "id": "bp8QnrY0FuWY"
      },
      "execution_count": null,
      "outputs": []
    },
    {
      "cell_type": "code",
      "source": [
        "query = \"科学的にはどれくらい正確だった？\"\n",
        "results = search(query)\n",
        "results"
      ],
      "metadata": {
        "id": "P-a6Tu_yN35w"
      },
      "execution_count": null,
      "outputs": []
    },
    {
      "cell_type": "code",
      "metadata": {
        "id": "41cbcc0b"
      },
      "source": [
        "%pip install rank_bm25"
      ],
      "execution_count": null,
      "outputs": []
    },
    {
      "cell_type": "code",
      "source": [
        "import string\n",
        "\n",
        "from rank_bm25 import BM25Okapi\n",
        "from sklearn.feature_extraction import _stop_words\n",
        "\n",
        "def bm25_tokenizer(text):\n",
        "  tokenized_doc = []\n",
        "  for token in text.lower().split():\n",
        "    token = token.strip(string.punctuation)\n",
        "\n",
        "    if len(token) > 0 and token not in _stop_words.ENGLISH_STOP_WORDS:\n",
        "      tokenized_doc.append(token)\n",
        "  return tokenized_doc"
      ],
      "metadata": {
        "id": "OoBpfMEmOIAj"
      },
      "execution_count": null,
      "outputs": []
    },
    {
      "cell_type": "code",
      "source": [
        "from tqdm import tqdm\n",
        "\n",
        "tokenized_corpus = []\n",
        "for passage in tqdm(texts):\n",
        "  tokenized_corpus.append(bm25_tokenizer(passage))\n",
        "\n",
        "bm25 = BM25Okapi(tokenized_corpus)"
      ],
      "metadata": {
        "id": "Ba3zNvykPCOq"
      },
      "execution_count": null,
      "outputs": []
    },
    {
      "cell_type": "code",
      "source": [
        "def keyword_search(query, top_k=3, num_candidates=15):\n",
        "  print(\"Input question:\", query)\n",
        "\n",
        "  # BM25 を用いた検索\n",
        "  bm25_scores = bm25.get_scores(bm25_tokenizer(query))\n",
        "  top_n = np.argpartition(bm25_scores, -num_candidates)[-num_candidates:]\n",
        "  bm25_hits = [{'corpus_id': idx, 'score': bm25_scores[idx]} for idx in top_n]\n",
        "  bm25_hits = sorted(bm25_hits, key=lambda x: x['score'], reverse=True)\n",
        "\n",
        "  print(f\"Top-3 lexical search (BM25) hits\")\n",
        "  for hit in bm25_hits[0:top_k]:\n",
        "    print(\"\\t{:3f}\\t{}\".format(hit['score'], texts[hit['corpus_id']].replace(\"\\n\", \" \")))"
      ],
      "metadata": {
        "id": "OpC5CWohg3B0"
      },
      "execution_count": null,
      "outputs": []
    },
    {
      "cell_type": "code",
      "source": [
        "keyword_search(query=\"how precise was the science\")"
      ],
      "metadata": {
        "id": "nkwjCx6ti4HR"
      },
      "execution_count": null,
      "outputs": []
    },
    {
      "cell_type": "code",
      "source": [
        "# 8.2.2.1\n",
        "query = \"科学的にどれくらい正確だった？\"\n",
        "results = co.rerank(query=query, documents=texts, top_n=3, return_documents=True)\n",
        "results.results"
      ],
      "metadata": {
        "id": "FrPLMcEnVr6f"
      },
      "execution_count": null,
      "outputs": []
    },
    {
      "cell_type": "code",
      "source": [
        "for idx, result in enumerate(results.results):\n",
        "  print(idx, result.relevance_score, result.document.text)"
      ],
      "metadata": {
        "id": "_LMjvpeNWD-Y"
      },
      "execution_count": null,
      "outputs": []
    },
    {
      "cell_type": "code",
      "source": [
        "def keyword_and_reranking_search(query, top_k=3, num_candidates=10):\n",
        "    print(\"Input question:\", query)\n",
        "\n",
        "    ##### BM25 search (lexical search) #####\n",
        "    bm25_scores = bm25.get_scores(bm25_tokenizer(query))\n",
        "    top_n = np.argpartition(bm25_scores, -num_candidates)[-num_candidates:]\n",
        "    bm25_hits = [{'corpus_id': idx, 'score': bm25_scores[idx]} for idx in top_n]\n",
        "    bm25_hits = sorted(bm25_hits, key=lambda x: x['score'], reverse=True)\n",
        "\n",
        "    print(f\"Top-3 lexical search (BM25) hits\")\n",
        "    for hit in bm25_hits[0:top_k]:\n",
        "        print(\"\\t{:.3f}\\t{}\".format(hit['score'], texts[hit['corpus_id']].replace(\"\\n\", \" \")))\n",
        "\n",
        "    #Add re-ranking\n",
        "    docs = [texts[hit['corpus_id']] for hit in bm25_hits]\n",
        "\n",
        "    print(f\"\\nTop-3 hits by rank-API ({len(bm25_hits)} BM25 hits re-ranked)\")\n",
        "    results = co.rerank(query=query, documents=docs, top_n=top_k, return_documents=True)\n",
        "    for hit in results.results:\n",
        "        print(\"\\t{:.3f}\\t{}\".format(hit.relevance_score, hit.document.text.replace(\"\\n\", \" \")))"
      ],
      "metadata": {
        "id": "IWegcVXbjfFE"
      },
      "execution_count": null,
      "outputs": []
    },
    {
      "cell_type": "code",
      "source": [
        "keyword_and_reranking_search(query = \"how precise was the science\")"
      ],
      "metadata": {
        "id": "tgGcSfIzQ_Bj"
      },
      "execution_count": null,
      "outputs": []
    },
    {
      "cell_type": "code",
      "source": [
        "# 興行収入に関するクエリ\n",
        "query = \"income generated\"\n",
        "\n",
        "# 検索\n",
        "# 検索には埋め込みを使用する。ただし、理想的にはハイブリッド検索が良い\n",
        "results = search(query)\n",
        "\n",
        "# 検索結果を用いた生成\n",
        "docs_dict = [{\"text\": text} for text in results[\"texts\"]]\n",
        "response = co.chat(\n",
        "    message = query,\n",
        "    documents=docs_dict\n",
        ")\n",
        "\n",
        "print(response.text)"
      ],
      "metadata": {
        "id": "5ogQTsuMUGjN"
      },
      "execution_count": null,
      "outputs": []
    },
    {
      "cell_type": "code",
      "source": [
        "print(response)"
      ],
      "metadata": {
        "id": "IliMMyrBYuPP"
      },
      "execution_count": null,
      "outputs": []
    },
    {
      "cell_type": "code",
      "source": [
        "!wget https://huggingface.co/microsoft/Phi-3-mini-4k-instruct-gguf/resolve/main/Phi-3-mini-4k-instruct-q4.gguf"
      ],
      "metadata": {
        "id": "1X0pw8D1YyRh"
      },
      "execution_count": null,
      "outputs": []
    },
    {
      "cell_type": "code",
      "source": [
        "from langchain import LlamaCpp\n",
        "\n",
        "llm = LlamaCpp(\n",
        "    model_path=\"Phi3-mini-4k-instruct-fp16.gguf\",\n",
        "    n_gpu_layers=-1,\n",
        "    max_tokens=500,\n",
        "    n_ctx=2048,\n",
        "    seed=42,\n",
        "    verbose=False\n",
        ")"
      ],
      "metadata": {
        "id": "9mAKnncTZGNQ"
      },
      "execution_count": null,
      "outputs": []
    },
    {
      "cell_type": "code",
      "source": [
        "from langchain.embeddings.huggingface import HuggingFaceEmbeddings\n",
        "# テキストを数値表現に変換するための埋め込みモデル\n",
        "embedding_model = HuggingFaceEmbeddings(\n",
        "    model_name=\"BAAI/bgr-small-en-v1.5\"\n",
        ")"
      ],
      "metadata": {
        "id": "AYT0zuVnS12e"
      },
      "execution_count": null,
      "outputs": []
    },
    {
      "cell_type": "code",
      "source": [
        "from langchain.vectorstores import FAISS\n",
        "\n",
        "# ベクトルデータベースを作成\n",
        "db = FAISS.from_texts(texts, embedding_model)"
      ],
      "metadata": {
        "id": "ihGBo77uTQMI"
      },
      "execution_count": null,
      "outputs": []
    },
    {
      "cell_type": "code",
      "source": [
        "from langchain import PromptTemplate\n",
        "\n",
        "# プロンプトテンプレートを作成\n",
        "# 関連情報を提供するための入力変数としてcontextを追加\n",
        "template = \"\"\"<|user|>\n",
        "Relevant information:\n",
        "{context}\n",
        "\n",
        "以下の質問に対して上記の関連情報を用いて簡潔に回答してください:\n",
        "{question}<|end|>\n",
        "<|assistant|>\"\"\"\n",
        "prompt = PromptTemplate(\n",
        "    template=template,\n",
        "    input_variables=[\"context\", \"question\"]\n",
        ")"
      ],
      "metadata": {
        "id": "eM-ZtHPIT1Lj"
      },
      "execution_count": null,
      "outputs": []
    },
    {
      "cell_type": "code",
      "source": [
        "from langchain.chains import RetrievalQA\n",
        "\n",
        "# RAG パイプライン\n",
        "rag = RetrievalQA.from_chain_type(\n",
        "    llm=llm,\n",
        "    chain_type=\"stuff\",\n",
        "    retriever=db.as_retriever(),\n",
        "    chain_type_kwards={\n",
        "        \"prompt\": prompt\n",
        "    },\n",
        "    verbose=True\n",
        ")"
      ],
      "metadata": {
        "id": "TvSXYgHxVVcu"
      },
      "execution_count": null,
      "outputs": []
    },
    {
      "cell_type": "code",
      "source": [
        "rag.invoke(\"Income generated\")"
      ],
      "metadata": {
        "id": "mIFr7bQCV8Jy"
      },
      "execution_count": null,
      "outputs": []
    }
  ]
}