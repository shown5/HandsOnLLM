{
  "nbformat": 4,
  "nbformat_minor": 0,
  "metadata": {
    "colab": {
      "provenance": [],
      "authorship_tag": "ABX9TyNAjhju/fEUjmMpW5w+YkDa",
      "include_colab_link": true
    },
    "kernelspec": {
      "name": "python3",
      "display_name": "Python 3"
    },
    "language_info": {
      "name": "python"
    }
  },
  "cells": [
    {
      "cell_type": "markdown",
      "metadata": {
        "id": "view-in-github",
        "colab_type": "text"
      },
      "source": [
        "<a href=\"https://colab.research.google.com/github/shown5/HandsOnLLM/blob/main/chap10_create_embedding_model.ipynb\" target=\"_parent\"><img src=\"https://colab.research.google.com/assets/colab-badge.svg\" alt=\"Open In Colab\"/></a>"
      ]
    },
    {
      "cell_type": "code",
      "execution_count": null,
      "metadata": {
        "id": "1NrWqfmphSju"
      },
      "outputs": [],
      "source": [
        "from datasets import load_dataset\n",
        "\n",
        "# GLUE からMNLIデータセットを読み込む\n",
        "# 0 = 合意、１ = 中立、２ = 矛盾\n",
        "train_dataset = load_dataset(\n",
        "    \"glue\", \"mnli\", split=\"train\"\n",
        ").select(range(50_000))\n",
        "train_dataset = traindataset.remove_columns(\"idx\")"
      ]
    }
  ]
}