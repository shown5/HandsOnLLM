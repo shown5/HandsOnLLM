{
  "nbformat": 4,
  "nbformat_minor": 0,
  "metadata": {
    "colab": {
      "provenance": [],
      "gpuType": "T4",
      "authorship_tag": "ABX9TyOb/ijGI3eVm+gOjXw6NsLQ",
      "include_colab_link": true
    },
    "kernelspec": {
      "name": "python3",
      "display_name": "Python 3"
    },
    "language_info": {
      "name": "python"
    },
    "accelerator": "GPU"
  },
  "cells": [
    {
      "cell_type": "markdown",
      "metadata": {
        "id": "view-in-github",
        "colab_type": "text"
      },
      "source": [
        "<a href=\"https://colab.research.google.com/github/shown5/HandsOnLLM/blob/main/chap3_diveIntoLLM.ipynb\" target=\"_parent\"><img src=\"https://colab.research.google.com/assets/colab-badge.svg\" alt=\"Open In Colab\"/></a>"
      ]
    },
    {
      "cell_type": "code",
      "source": [
        "%%capture\n",
        "!pip install transformers>=4.41.2 accelerate>=0.31.0"
      ],
      "metadata": {
        "id": "rdzTVK57t-Uj"
      },
      "execution_count": null,
      "outputs": []
    },
    {
      "cell_type": "code",
      "execution_count": null,
      "metadata": {
        "id": "l7tZFnn3sXTp"
      },
      "outputs": [],
      "source": [
        "import torch\n",
        "from transformers import AutoModelForCausalLM, AutoTokenizer, pipeline\n",
        "\n",
        "# モデルとトークナイザの読み込み\n",
        "tokenizer = AutoTokenizer.from_pretrained(\"microsoft/Phi-3-mini-4k-instruct\")\n",
        "model = AutoModelForCausalLM.from_pretrained(\n",
        "    \"microsoft/Phi-3-mini-4k-instruct\",\n",
        "    device_map=\"cuda\",\n",
        "    torch_dtype=\"auto\",\n",
        "    trust_remote_code=True,\n",
        "    )\n",
        "\n",
        "# パイプラインの作成\n",
        "generator = pipeline(\n",
        "    \"text-generation\",\n",
        "    model=model,\n",
        "    tokenizer=tokenizer,\n",
        "    return_full_text=False,\n",
        "    max_new_tokens=50,\n",
        "    do_sample=False,\n",
        ")\n"
      ]
    },
    {
      "cell_type": "code",
      "source": [
        "# ガーデニングで起きてしまった悲しい出来事についてサラに謝罪するメールを書いてください\n",
        "# どのようにして起こったのかもか説明してください。\n",
        "prompt = \"Write an email appologizing to Saarah for the tragic gardening mishap. Explain how it happened.\"\n",
        "\n",
        "# Add the attention_mask to the generator call\n",
        "output = generator(prompt)\n",
        "\n",
        "print(output[0][\"generated_text\"])"
      ],
      "metadata": {
        "id": "cc2OzgnQ991L"
      },
      "execution_count": null,
      "outputs": []
    },
    {
      "cell_type": "code",
      "source": [
        "# プロンプト：フランスの首都は\n",
        "prompt = \"The capital of France is\"\n",
        "\n",
        "# 入力プロンプトをトークン化\n",
        "input_ids = tokenizer(prompt, return_tensors=\"pt\").input_ids\n",
        "input_ids = input_ids.to(\"cuda\")\n",
        "\n",
        "# lm_head の前のモデルの出力を取得\n",
        "model_output = model.model(input_ids)\n",
        "\n",
        "# lm_head の出力を取得\n",
        "lm_head_output = model.lm_head(model_output[0])"
      ],
      "metadata": {
        "id": "n0yUWEcT-imb"
      },
      "execution_count": null,
      "outputs": []
    }
  ]
}